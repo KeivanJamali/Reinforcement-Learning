{
 "cells": [
  {
   "cell_type": "code",
   "execution_count": 2,
   "metadata": {},
   "outputs": [],
   "source": [
    "# @title Setup code (not important) - Run this cell by pressing \"Shift + Enter\"\n",
    "\n",
    "\n",
    "\n",
    "!pip install -qq gym==0.23.0\n",
    "\n",
    "\n",
    "from typing import Tuple, Dict, Optional, Iterable, Callable\n",
    "\n",
    "import numpy as np\n",
    "import seaborn as sns\n",
    "import matplotlib\n",
    "import torch\n",
    "from matplotlib import animation\n",
    "import matplotlib.patches as mpatches\n",
    "\n",
    "from IPython.display import HTML\n",
    "\n",
    "import gym\n",
    "from gym import spaces\n",
    "from gym.error import DependencyNotInstalled\n",
    "\n",
    "import pygame\n",
    "from pygame import gfxdraw\n",
    "import matplotlib.pyplot as plt\n",
    "\n",
    "def display_video(frames):\n",
    "    # Copied from: https://colab.research.google.com/github/deepmind/dm_control/blob/master/tutorial.ipynb\n",
    "    orig_backend = matplotlib.get_backend()\n",
    "    matplotlib.use('Agg')\n",
    "    fig, ax = plt.subplots(1, 1, figsize=(5, 5))\n",
    "    matplotlib.use(orig_backend)\n",
    "    ax.set_axis_off()\n",
    "    ax.set_aspect('equal')\n",
    "    ax.set_position([0, 0, 1, 1])\n",
    "    im = ax.imshow(frames[0])\n",
    "    def update(frame):\n",
    "        im.set_data(frame)\n",
    "        return [im]\n",
    "    anim = animation.FuncAnimation(fig=fig, func=update, frames=frames,\n",
    "                                    interval=50, blit=True, repeat=False)\n",
    "    return HTML(anim.to_html5_video())\n",
    "\n",
    "\n",
    "def seed_everything(env: gym.Env, seed: int = 42) -> None:\n",
    "    env.action_space.seed(seed)\n",
    "    env.observation_space.seed(seed)\n",
    "    np.random.seed(seed)\n",
    "    torch.manual_seed(seed)\n",
    "    torch.use_deterministic_algorithms(True)\n",
    "\n",
    "\n",
    "def plot_stats(stats):\n",
    "    rows = len(stats)\n",
    "    cols = 1\n",
    "\n",
    "    fig, ax = plt.subplots(rows, cols, figsize=(12, 6))\n",
    "\n",
    "    for i, key in enumerate(stats):\n",
    "        vals = stats[key]\n",
    "        vals = [np.mean(vals[i-10:i+10]) for i in range(10, len(vals)-10)]\n",
    "        if len(stats) > 1:\n",
    "            ax[i].plot(range(len(vals)), vals)\n",
    "            ax[i].set_title(key, size=18)\n",
    "        else:\n",
    "            ax.plot(range(len(vals)), vals)\n",
    "            ax.set_title(key, size=18)\n",
    "    plt.tight_layout()\n",
    "    plt.show()\n",
    "\n",
    "\n",
    "def test_policy_network(env, policy, episodes=10):\n",
    "    frames = []\n",
    "    for episode in range(episodes):\n",
    "        state = env.reset()\n",
    "        done = False\n",
    "        frames.append(env.render())\n",
    "\n",
    "        while not done:\n",
    "            state = torch.from_numpy(state).unsqueeze(0).float()\n",
    "            action = policy(state).multinomial(1).item()\n",
    "            next_state, _, done, _ = env.step(action)\n",
    "            img = env.render()\n",
    "            frames.append(img)\n",
    "            state = next_state\n",
    "\n",
    "    return display_video(frames)\n",
    "\n",
    "\n",
    "def plot_action_probs(probs, labels):\n",
    "    plt.figure(figsize=(6, 4))\n",
    "    plt.bar(labels, probs, color ='orange')\n",
    "    plt.title(\"$\\pi(s)$\", size=16)\n",
    "    plt.xticks(fontsize=12)\n",
    "    plt.yticks(fontsize=12)\n",
    "    plt.tight_layout()\n",
    "    plt.show()\n",
    "\n",
    "\n"
   ]
  },
  {
   "cell_type": "code",
   "execution_count": 3,
   "metadata": {},
   "outputs": [],
   "source": [
    "import os\n",
    "import torch\n",
    "import gym\n",
    "from tqdm.auto import tqdm\n",
    "from torch import nn\n",
    "\n",
    "# test_policy_network, seed_everything, plot_state, plot_action_probs, ParallelEnv, ParallelWrapper"
   ]
  },
  {
   "cell_type": "code",
   "execution_count": 17,
   "metadata": {},
   "outputs": [
    {
     "data": {
      "text/plain": [
       "<matplotlib.image.AxesImage at 0x2086f805e10>"
      ]
     },
     "execution_count": 17,
     "metadata": {},
     "output_type": "execute_result"
    },
    {
     "data": {
      "image/png": "[encoded data removed]",
      "text/plain": [
       "<Figure size 640x480 with 1 Axes>"
      ]
     },
     "metadata": {},
     "output_type": "display_data"
    }
   ],
   "source": [
    "env = gym.make(\"CartPole-v1\", render_mode=\"rgb_array\")\n",
    "state_dim = env.observation_space.shape[0]\n",
    "action_dim = env.action_space.n\n",
    "env.reset()\n",
    "plt.imshow(env.render())"
   ]
  },
  {
   "cell_type": "code",
   "execution_count": 10,
   "metadata": {},
   "outputs": [
    {
     "data": {
      "text/plain": [
       "12"
      ]
     },
     "execution_count": 10,
     "metadata": {},
     "output_type": "execute_result"
    }
   ],
   "source": [
    "num_envs = os.cpu_count()\n",
    "num_envs"
   ]
  },
  {
   "cell_type": "code",
   "execution_count": 18,
   "metadata": {},
   "outputs": [
    {
     "data": {
      "text/plain": [
       "(array([[ 0.03234058, -0.03501469, -0.00585138,  0.02065129],\n",
       "        [ 0.02697986, -0.00457622, -0.04344226,  0.02759003],\n",
       "        [ 0.01309526, -0.03154977, -0.03291835, -0.02920913],\n",
       "        [ 0.01766695,  0.01855476,  0.03895122,  0.04163725],\n",
       "        [ 0.00808208,  0.02967859,  0.01478289,  0.0184484 ],\n",
       "        [ 0.02180945,  0.04418165,  0.03506271, -0.03813565],\n",
       "        [ 0.00185848,  0.00121865,  0.03497375,  0.01267837],\n",
       "        [ 0.0340287 , -0.03097538,  0.01543608, -0.04724941],\n",
       "        [ 0.03680797, -0.00330843, -0.00454729,  0.02019916],\n",
       "        [ 0.01776978, -0.02755169, -0.00774339,  0.04613631],\n",
       "        [-0.02789676, -0.00739076,  0.02540836, -0.01188975],\n",
       "        [-0.01945981, -0.04002001,  0.01699855,  0.02697509]],\n",
       "       dtype=float32),\n",
       " {})"
      ]
     },
     "execution_count": 18,
     "metadata": {},
     "output_type": "execute_result"
    }
   ],
   "source": [
    "parallel_env = gym.vector.make(\"CartPole-v1\", render_mode=\"rgb_array\", num_envs=num_envs)\n",
    "parallel_env.reset()\n",
    "# plt.imshow(parallel_env.render())\n",
    "# parallel_env"
   ]
  },
  {
   "cell_type": "code",
   "execution_count": 82,
   "metadata": {},
   "outputs": [],
   "source": [
    "class PreprocessEnv(gym.Wrapper):\n",
    "    def __init__(self, env):\n",
    "        gym.Wrapper.__init__(self, env)\n",
    "\n",
    "    def reset(self):\n",
    "        state = self.env.reset()[0]\n",
    "        return torch.from_numpy(np.array(state)).float()\n",
    "\n",
    "    def step(self, actions):\n",
    "        # actions = actions.squeeze().numpy()\n",
    "        actions = np.array(actions)\n",
    "        print(actions)\n",
    "        print(self.env.step(actions))\n",
    "        next_state, reward, done, _, _ = self.env.step([1, 2])\n",
    "        next_state = torch.from_numpy(next_state).float()\n",
    "        reward = torch.tensor(reward).unsqueeze(0).float()\n",
    "        done = torch.tensor(done).unsqueeze(0)\n",
    "        return next_state, reward, done\n",
    "    \n"
   ]
  },
  {
   "cell_type": "code",
   "execution_count": 83,
   "metadata": {},
   "outputs": [],
   "source": [
    "parallel_env = PreprocessEnv(parallel_env)"
   ]
  },
  {
   "cell_type": "code",
   "execution_count": 84,
   "metadata": {},
   "outputs": [
    {
     "name": "stderr",
     "output_type": "stream",
     "text": [
      "Exception ignored in: <function AsyncVectorEnv.__del__ at 0x000002086DB8C040>\n",
      "Traceback (most recent call last):\n",
      "  File \"c:\\All Python Projects\\Interpreters\\in_Machine_Learning\\Lib\\site-packages\\gym\\vector\\async_vector_env.py\", line 546, in __del__\n",
      "    self.close(terminate=True)\n",
      "  File \"c:\\All Python Projects\\Interpreters\\in_Machine_Learning\\Lib\\site-packages\\gym\\vector\\vector_env.py\", line 205, in close\n",
      "    self.close_extras(**kwargs)\n",
      "  File \"c:\\All Python Projects\\Interpreters\\in_Machine_Learning\\Lib\\site-packages\\gym\\vector\\async_vector_env.py\", line 461, in close_extras\n",
      "    function(timeout)\n",
      "  File \"c:\\All Python Projects\\Interpreters\\in_Machine_Learning\\Lib\\site-packages\\gym\\vector\\async_vector_env.py\", line 311, in step_wait\n",
      "    if not self._poll(timeout):\n",
      "           ^^^^^^^^^^^^^^^^^^^\n",
      "  File \"c:\\All Python Projects\\Interpreters\\in_Machine_Learning\\Lib\\site-packages\\gym\\vector\\async_vector_env.py\", line 493, in _poll\n",
      "    if pipe.closed or (not pipe.poll(delta)):\n",
      "                           ^^^^^^^^^^^^^^^^\n",
      "  File \"c:\\All Python Projects\\Interpreters\\in_Machine_Learning\\Lib\\multiprocessing\\connection.py\", line 256, in poll\n",
      "    return self._poll(timeout)\n",
      "           ^^^^^^^^^^^^^^^^^^^\n",
      "  File \"c:\\All Python Projects\\Interpreters\\in_Machine_Learning\\Lib\\multiprocessing\\connection.py\", line 327, in _poll\n",
      "    _winapi.PeekNamedPipe(self._handle)[0] != 0):\n",
      "    ^^^^^^^^^^^^^^^^^^^^^^^^^^^^^^^^^^^\n",
      "BrokenPipeError: [WinError 109] The pipe has been ended\n"
     ]
    },
    {
     "name": "stdout",
     "output_type": "stream",
     "text": [
      "[[1]]\n"
     ]
    },
    {
     "ename": "TypeError",
     "evalue": "cannot unpack non-iterable NoneType object",
     "output_type": "error",
     "traceback": [
      "\u001b[1;31m---------------------------------------------------------------------------\u001b[0m",
      "\u001b[1;31mTypeError\u001b[0m                                 Traceback (most recent call last)",
      "Cell \u001b[1;32mIn[84], line 7\u001b[0m\n\u001b[0;32m      5\u001b[0m \u001b[38;5;66;03m# action = torch.tensor([[1], [2], [3], [4], [5], [6], [7], [8], [9], [10], [11], [12]])\u001b[39;00m\n\u001b[0;32m      6\u001b[0m action \u001b[38;5;241m=\u001b[39m [[\u001b[38;5;241m1\u001b[39m]]\n\u001b[1;32m----> 7\u001b[0m state, reward, done \u001b[38;5;241m=\u001b[39m \u001b[43mparallel_env\u001b[49m\u001b[38;5;241;43m.\u001b[39;49m\u001b[43mstep\u001b[49m\u001b[43m(\u001b[49m\u001b[43maction\u001b[49m\u001b[43m)\u001b[49m\n\u001b[0;32m      8\u001b[0m state, reward, done\n",
      "Cell \u001b[1;32mIn[82], line 13\u001b[0m, in \u001b[0;36mPreprocessEnv.step\u001b[1;34m(self, actions)\u001b[0m\n\u001b[0;32m     11\u001b[0m actions \u001b[38;5;241m=\u001b[39m np\u001b[38;5;241m.\u001b[39marray(actions)\n\u001b[0;32m     12\u001b[0m \u001b[38;5;28mprint\u001b[39m(actions)\n\u001b[1;32m---> 13\u001b[0m \u001b[38;5;28mprint\u001b[39m(\u001b[38;5;28;43mself\u001b[39;49m\u001b[38;5;241;43m.\u001b[39;49m\u001b[43menv\u001b[49m\u001b[38;5;241;43m.\u001b[39;49m\u001b[43mstep\u001b[49m\u001b[43m(\u001b[49m\u001b[43mactions\u001b[49m\u001b[43m)\u001b[49m)\n\u001b[0;32m     14\u001b[0m next_state, reward, done, _, _ \u001b[38;5;241m=\u001b[39m \u001b[38;5;28mself\u001b[39m\u001b[38;5;241m.\u001b[39menv\u001b[38;5;241m.\u001b[39mstep([\u001b[38;5;241m1\u001b[39m, \u001b[38;5;241m2\u001b[39m])\n\u001b[0;32m     15\u001b[0m next_state \u001b[38;5;241m=\u001b[39m torch\u001b[38;5;241m.\u001b[39mfrom_numpy(next_state)\u001b[38;5;241m.\u001b[39mfloat()\n",
      "File \u001b[1;32mc:\\All Python Projects\\Interpreters\\in_Machine_Learning\\Lib\\site-packages\\gym\\vector\\vector_env.py:137\u001b[0m, in \u001b[0;36mVectorEnv.step\u001b[1;34m(self, actions)\u001b[0m\n\u001b[0;32m    128\u001b[0m \u001b[38;5;250m\u001b[39m\u001b[38;5;124;03m\"\"\"Take an action for each parallel environment.\u001b[39;00m\n\u001b[0;32m    129\u001b[0m \n\u001b[0;32m    130\u001b[0m \u001b[38;5;124;03mArgs:\u001b[39;00m\n\u001b[1;32m   (...)\u001b[0m\n\u001b[0;32m    134\u001b[0m \u001b[38;5;124;03m    Batch of (observations, rewards, terminated, truncated, infos) or (observations, rewards, dones, infos)\u001b[39;00m\n\u001b[0;32m    135\u001b[0m \u001b[38;5;124;03m\"\"\"\u001b[39;00m\n\u001b[0;32m    136\u001b[0m \u001b[38;5;28mself\u001b[39m\u001b[38;5;241m.\u001b[39mstep_async(actions)\n\u001b[1;32m--> 137\u001b[0m \u001b[38;5;28;01mreturn\u001b[39;00m \u001b[38;5;28;43mself\u001b[39;49m\u001b[38;5;241;43m.\u001b[39;49m\u001b[43mstep_wait\u001b[49m\u001b[43m(\u001b[49m\u001b[43m)\u001b[49m\n",
      "File \u001b[1;32mc:\\All Python Projects\\Interpreters\\in_Machine_Learning\\Lib\\site-packages\\gym\\vector\\async_vector_env.py:321\u001b[0m, in \u001b[0;36mAsyncVectorEnv.step_wait\u001b[1;34m(self, timeout)\u001b[0m\n\u001b[0;32m    319\u001b[0m \u001b[38;5;28;01mfor\u001b[39;00m i, pipe \u001b[38;5;129;01min\u001b[39;00m \u001b[38;5;28menumerate\u001b[39m(\u001b[38;5;28mself\u001b[39m\u001b[38;5;241m.\u001b[39mparent_pipes):\n\u001b[0;32m    320\u001b[0m     result, success \u001b[38;5;241m=\u001b[39m pipe\u001b[38;5;241m.\u001b[39mrecv()\n\u001b[1;32m--> 321\u001b[0m     obs, rew, terminated, truncated, info \u001b[38;5;241m=\u001b[39m result\n\u001b[0;32m    323\u001b[0m     successes\u001b[38;5;241m.\u001b[39mappend(success)\n\u001b[0;32m    324\u001b[0m     observations_list\u001b[38;5;241m.\u001b[39mappend(obs)\n",
      "\u001b[1;31mTypeError\u001b[0m: cannot unpack non-iterable NoneType object"
     ]
    }
   ],
   "source": [
    "# parallel_env = gym.vector.make(\"CartPole-v0\", render_mode=\"rgb_array\", num_envs=1)\n",
    "parallel_env = gym.vector.make(\"CartPole-v0\", render_mode=\"rgb_array\", num_envs=2)\n",
    "parallel_env = PreprocessEnv(parallel_env)\n",
    "state = parallel_env.reset()\n",
    "# action = torch.tensor([[1], [2], [3], [4], [5], [6], [7], [8], [9], [10], [11], [12]])\n",
    "action = [[1]]\n",
    "state, reward, done = parallel_env.step(action)\n",
    "state, reward, done"
   ]
  },
  {
   "cell_type": "code",
   "execution_count": null,
   "metadata": {},
   "outputs": [],
   "source": [
    "state_dim = env.observation_space[0]\n",
    "action_dim = env.action_space.n\n",
    "hiddenlayer1 = 128\n",
    "hiddenlayer2 = 64\n",
    "\n",
    "policy = nn.Squential(\n",
    "    nn.Linear(state_dim, hiddenlayer1),\n",
    "    nn.ReLU(),\n",
    "    nn.Liear(hiddenlayer1, hiddenlayer2),\n",
    "    nn.ReLU(),\n",
    "    nn.Linear(hiddenlayer2, action_dim),\n",
    "    nn.softmax(dim=-1)\n",
    ")"
   ]
  },
  {
   "cell_type": "code",
   "execution_count": null,
   "metadata": {},
   "outputs": [],
   "source": [
    "neural_state = torch.zeros(4)\n",
    "left_danger = torch.tensor([-2.3, 0., 0., 0.])\n",
    "right_danger = torch.tensor([2.3, 0., 0., 0.])"
   ]
  },
  {
   "cell_type": "code",
   "execution_count": null,
   "metadata": {},
   "outputs": [],
   "source": [
    "probs = policy(neural_state).detach().numpy()\n",
    "plot_action_probs(probs=probs, labels=[\"Move Left\", \"Move Right\"])"
   ]
  },
  {
   "cell_type": "code",
   "execution_count": null,
   "metadata": {},
   "outputs": [],
   "source": [
    "probs = policy(left_danger).detach().numpy()\n",
    "plot_action_probs(probs=probs, labels=[\"Move Left\", \"Move Right\"])"
   ]
  },
  {
   "cell_type": "code",
   "execution_count": null,
   "metadata": {},
   "outputs": [],
   "source": [
    "probs = policy(right_danger).detach().numpy()\n",
    "plot_action_probs(probs=probs, labels=[\"Move Left\", \"Move Right\"])"
   ]
  },
  {
   "cell_type": "code",
   "execution_count": null,
   "metadata": {},
   "outputs": [],
   "source": [
    "def reinforce(policy, episodes, alpha=1e-4, gamma=0.99):\n",
    "    optimizer = torch.optim.AdamW(policy.parameters(), lr=alpha)\n",
    "    stats = {\"Loss\":[], \"Reward\":[]}\n",
    "\n",
    "    for episode in tqdm(range(1, episodes+1)):\n",
    "        state = parallel_env.reset()\n",
    "        done_b = torch.zeros((num_envs, 1), dtype=torch.bool)\n",
    "        transition = []\n",
    "        ep_return = torch.zeros((num_envs, 1))\n",
    "\n",
    "        while not done_b.all():\n",
    "            action = policy(state).multinominal(1).detach()\n",
    "            next_state, reward, done = parallel_env.step(action)\n",
    "            transition.append([state, action, ~done_b * reward])\n",
    "            ep_return += reward\n",
    "            done_b |= done\n",
    "            state = next_state\n",
    "\n",
    "        G = torch.zeros((num_envs, 1))\n",
    "\n",
    "        for t, (state_t, action_t, reward_t) in reversed(list(enumerate(transition))):\n",
    "            G = reward_t + gamma * G\n",
    "            probs_t = policy(state_t)\n",
    "            log_probs_t = torch.log(probs_t + 1e-6)\n",
    "            action_log_prob_t = log_probs_t.gather(1, action_t)\n",
    "\n",
    "            entropy_t = -torch.sum(probs_t * log_probs_t, dim=-1, keepdim=True)\n",
    "            gamma_t = gamma ** t\n",
    "            pg_loss_t = -gamma_t * action_log_prob_t * G\n",
    "            total_loss_t = (pg_loss_t - 0.01 * entropy_t).mean()\n",
    "\n",
    "            policy.zero_grad()\n",
    "            total_loss_t.backward()\n",
    "            optimizer.step()\n",
    "\n",
    "        stats[\"Loss\"].append(total_loss_t.item())\n",
    "        stats[\"Return\"].append(ep_return.mean().item())\n",
    "\n",
    "\n",
    "    return stats"
   ]
  },
  {
   "cell_type": "code",
   "execution_count": null,
   "metadata": {},
   "outputs": [],
   "source": [
    "parallel_env.reset()\n",
    "stats = reinforce(policy, 200)"
   ]
  },
  {
   "cell_type": "code",
   "execution_count": null,
   "metadata": {},
   "outputs": [],
   "source": [
    "plot_stats(stats)"
   ]
  },
  {
   "cell_type": "code",
   "execution_count": null,
   "metadata": {},
   "outputs": [],
   "source": [
    "probs = policy(neural_state).detach().numpy()\n",
    "plot_action_probs(probs=probs, labels=[\"Move Left\", \"Move Right\"])"
   ]
  },
  {
   "cell_type": "code",
   "execution_count": null,
   "metadata": {},
   "outputs": [],
   "source": [
    "probs = policy(left_danger).detach().numpy()\n",
    "plot_action_probs(probs=probs, labels=[\"Move Left\", \"Move Right\"])"
   ]
  },
  {
   "cell_type": "code",
   "execution_count": null,
   "metadata": {},
   "outputs": [],
   "source": [
    "probs = policy(right_danger).detach().numpy()\n",
    "plot_action_probs(probs=probs, labels=[\"Move Left\", \"Move Right\"])"
   ]
  },
  {
   "cell_type": "code",
   "execution_count": null,
   "metadata": {},
   "outputs": [],
   "source": [
    "test_policy_network(env, policy, episodes=5)"
   ]
  },
  {
   "cell_type": "markdown",
   "metadata": {},
   "source": []
  },
  {
   "cell_type": "markdown",
   "metadata": {},
   "source": []
  }
 ],
 "metadata": {
  "kernelspec": {
   "display_name": "Python 3",
   "language": "python",
   "name": "python3"
  },
  "language_info": {
   "codemirror_mode": {
    "name": "ipython",
    "version": 3
   },
   "file_extension": ".py",
   "mimetype": "text/x-python",
   "name": "python",
   "nbconvert_exporter": "python",
   "pygments_lexer": "ipython3",
   "version": "3.11.5"
  }
 },
 "nbformat": 4,
 "nbformat_minor": 2
}
